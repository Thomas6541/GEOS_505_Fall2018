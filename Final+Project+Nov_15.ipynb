{
 "cells": [
  {
   "cell_type": "markdown",
   "metadata": {},
   "source": [
    "# Thomas Robbins\n",
    "### GEOS 505 Final Project Nov. 15 submission"
   ]
  },
  {
   "attachments": {},
   "cell_type": "markdown",
   "metadata": {},
   "source": [
    "#### In conjunction with the abstract that was previously submitted for this project, the work below is the submission requirement for Nov. 15th, 2018. \n",
    "\n",
    "##### Below are snippets of code that represent the data chosen for this project, along with brief explanations of the code and work to be performed. "
   ]
  },
  {
   "cell_type": "code",
   "execution_count": 1,
   "metadata": {},
   "outputs": [],
   "source": [
    "import pandas as pd\n",
    "import csv\n",
    "import matplotlib.pyplot as plt\n",
    "import numpy as np"
   ]
  },
  {
   "cell_type": "markdown",
   "metadata": {},
   "source": [
    "#### First, I will import the required csv file with concrete test data. This file will be initialized as 'data'"
   ]
  },
  {
   "cell_type": "code",
   "execution_count": 2,
   "metadata": {},
   "outputs": [
    {
     "data": {
      "text/html": [
       "<div>\n",
       "<style scoped>\n",
       "    .dataframe tbody tr th:only-of-type {\n",
       "        vertical-align: middle;\n",
       "    }\n",
       "\n",
       "    .dataframe tbody tr th {\n",
       "        vertical-align: top;\n",
       "    }\n",
       "\n",
       "    .dataframe thead th {\n",
       "        text-align: right;\n",
       "    }\n",
       "</style>\n",
       "<table border=\"1\" class=\"dataframe\">\n",
       "  <thead>\n",
       "    <tr style=\"text-align: right;\">\n",
       "      <th></th>\n",
       "      <th>Placement Date</th>\n",
       "      <th>QA QC</th>\n",
       "      <th>Report #</th>\n",
       "      <th>Ticket #</th>\n",
       "      <th>Test #</th>\n",
       "      <th>Cyl ID</th>\n",
       "      <th>Location</th>\n",
       "      <th>Neat line Vc</th>\n",
       "      <th>Actual Vc</th>\n",
       "      <th>Waste Vc</th>\n",
       "      <th>...</th>\n",
       "      <th>Early</th>\n",
       "      <th>% Design</th>\n",
       "      <th>7-Day</th>\n",
       "      <th>%Design(7)</th>\n",
       "      <th>10-Day</th>\n",
       "      <th>%Design(10)</th>\n",
       "      <th>28-Day</th>\n",
       "      <th>%Design(28)</th>\n",
       "      <th>56-Day</th>\n",
       "      <th>%Design(56)</th>\n",
       "    </tr>\n",
       "  </thead>\n",
       "  <tbody>\n",
       "    <tr>\n",
       "      <th>0</th>\n",
       "      <td>43234</td>\n",
       "      <td>QC</td>\n",
       "      <td>NaN</td>\n",
       "      <td>15812</td>\n",
       "      <td>1</td>\n",
       "      <td>NaN</td>\n",
       "      <td>RB 16, 17</td>\n",
       "      <td>NaN</td>\n",
       "      <td>NaN</td>\n",
       "      <td>NaN</td>\n",
       "      <td>...</td>\n",
       "      <td>NaN</td>\n",
       "      <td>NaN</td>\n",
       "      <td>NaN</td>\n",
       "      <td>NaN</td>\n",
       "      <td>NaN</td>\n",
       "      <td>NaN</td>\n",
       "      <td>NaN</td>\n",
       "      <td>NaN</td>\n",
       "      <td>NaN</td>\n",
       "      <td>NaN</td>\n",
       "    </tr>\n",
       "    <tr>\n",
       "      <th>1</th>\n",
       "      <td>43234</td>\n",
       "      <td>QC</td>\n",
       "      <td>NaN</td>\n",
       "      <td>15812</td>\n",
       "      <td>2</td>\n",
       "      <td>1</td>\n",
       "      <td>RB 16, 17</td>\n",
       "      <td>NaN</td>\n",
       "      <td>NaN</td>\n",
       "      <td>NaN</td>\n",
       "      <td>...</td>\n",
       "      <td>2040.0</td>\n",
       "      <td>0.45</td>\n",
       "      <td>NaN</td>\n",
       "      <td>NaN</td>\n",
       "      <td>NaN</td>\n",
       "      <td>NaN</td>\n",
       "      <td>NaN</td>\n",
       "      <td>NaN</td>\n",
       "      <td>NaN</td>\n",
       "      <td>NaN</td>\n",
       "    </tr>\n",
       "    <tr>\n",
       "      <th>2</th>\n",
       "      <td>43234</td>\n",
       "      <td>QC</td>\n",
       "      <td>NaN</td>\n",
       "      <td>15812</td>\n",
       "      <td>2</td>\n",
       "      <td>2</td>\n",
       "      <td>RB 16, 17</td>\n",
       "      <td>NaN</td>\n",
       "      <td>NaN</td>\n",
       "      <td>NaN</td>\n",
       "      <td>...</td>\n",
       "      <td>2140.0</td>\n",
       "      <td>0.48</td>\n",
       "      <td>NaN</td>\n",
       "      <td>NaN</td>\n",
       "      <td>NaN</td>\n",
       "      <td>NaN</td>\n",
       "      <td>NaN</td>\n",
       "      <td>NaN</td>\n",
       "      <td>NaN</td>\n",
       "      <td>NaN</td>\n",
       "    </tr>\n",
       "    <tr>\n",
       "      <th>3</th>\n",
       "      <td>43234</td>\n",
       "      <td>QC</td>\n",
       "      <td>NaN</td>\n",
       "      <td>15812</td>\n",
       "      <td>2</td>\n",
       "      <td>3</td>\n",
       "      <td>RB 16, 17</td>\n",
       "      <td>NaN</td>\n",
       "      <td>NaN</td>\n",
       "      <td>NaN</td>\n",
       "      <td>...</td>\n",
       "      <td>NaN</td>\n",
       "      <td>NaN</td>\n",
       "      <td>2950.0</td>\n",
       "      <td>0.66</td>\n",
       "      <td>NaN</td>\n",
       "      <td>NaN</td>\n",
       "      <td>NaN</td>\n",
       "      <td>NaN</td>\n",
       "      <td>NaN</td>\n",
       "      <td>NaN</td>\n",
       "    </tr>\n",
       "    <tr>\n",
       "      <th>4</th>\n",
       "      <td>43234</td>\n",
       "      <td>QC</td>\n",
       "      <td>NaN</td>\n",
       "      <td>15812</td>\n",
       "      <td>2</td>\n",
       "      <td>4</td>\n",
       "      <td>RB 16, 17</td>\n",
       "      <td>NaN</td>\n",
       "      <td>NaN</td>\n",
       "      <td>NaN</td>\n",
       "      <td>...</td>\n",
       "      <td>NaN</td>\n",
       "      <td>NaN</td>\n",
       "      <td>2770.0</td>\n",
       "      <td>0.62</td>\n",
       "      <td>NaN</td>\n",
       "      <td>NaN</td>\n",
       "      <td>NaN</td>\n",
       "      <td>NaN</td>\n",
       "      <td>NaN</td>\n",
       "      <td>NaN</td>\n",
       "    </tr>\n",
       "    <tr>\n",
       "      <th>5</th>\n",
       "      <td>43234</td>\n",
       "      <td>QC</td>\n",
       "      <td>NaN</td>\n",
       "      <td>15812</td>\n",
       "      <td>2</td>\n",
       "      <td>5</td>\n",
       "      <td>RB 16, 17</td>\n",
       "      <td>NaN</td>\n",
       "      <td>NaN</td>\n",
       "      <td>NaN</td>\n",
       "      <td>...</td>\n",
       "      <td>NaN</td>\n",
       "      <td>NaN</td>\n",
       "      <td>NaN</td>\n",
       "      <td>NaN</td>\n",
       "      <td>3130.0</td>\n",
       "      <td>0.70</td>\n",
       "      <td>NaN</td>\n",
       "      <td>NaN</td>\n",
       "      <td>NaN</td>\n",
       "      <td>NaN</td>\n",
       "    </tr>\n",
       "    <tr>\n",
       "      <th>6</th>\n",
       "      <td>43234</td>\n",
       "      <td>QC</td>\n",
       "      <td>NaN</td>\n",
       "      <td>15812</td>\n",
       "      <td>2</td>\n",
       "      <td>6</td>\n",
       "      <td>RB 16, 17</td>\n",
       "      <td>NaN</td>\n",
       "      <td>NaN</td>\n",
       "      <td>NaN</td>\n",
       "      <td>...</td>\n",
       "      <td>NaN</td>\n",
       "      <td>NaN</td>\n",
       "      <td>NaN</td>\n",
       "      <td>NaN</td>\n",
       "      <td>3120.0</td>\n",
       "      <td>0.69</td>\n",
       "      <td>NaN</td>\n",
       "      <td>NaN</td>\n",
       "      <td>NaN</td>\n",
       "      <td>NaN</td>\n",
       "    </tr>\n",
       "    <tr>\n",
       "      <th>7</th>\n",
       "      <td>43234</td>\n",
       "      <td>QC</td>\n",
       "      <td>NaN</td>\n",
       "      <td>15812</td>\n",
       "      <td>2</td>\n",
       "      <td>7</td>\n",
       "      <td>RB 16, 17</td>\n",
       "      <td>NaN</td>\n",
       "      <td>NaN</td>\n",
       "      <td>NaN</td>\n",
       "      <td>...</td>\n",
       "      <td>NaN</td>\n",
       "      <td>NaN</td>\n",
       "      <td>NaN</td>\n",
       "      <td>NaN</td>\n",
       "      <td>NaN</td>\n",
       "      <td>NaN</td>\n",
       "      <td>4530.0</td>\n",
       "      <td>1.01</td>\n",
       "      <td>NaN</td>\n",
       "      <td>NaN</td>\n",
       "    </tr>\n",
       "  </tbody>\n",
       "</table>\n",
       "<p>8 rows × 28 columns</p>\n",
       "</div>"
      ],
      "text/plain": [
       "   Placement Date QA QC Report #  Ticket #  Test # Cyl ID   Location  \\\n",
       "0           43234    QC      NaN     15812       1    NaN  RB 16, 17   \n",
       "1           43234    QC      NaN     15812       2      1  RB 16, 17   \n",
       "2           43234    QC      NaN     15812       2      2  RB 16, 17   \n",
       "3           43234    QC      NaN     15812       2      3  RB 16, 17   \n",
       "4           43234    QC      NaN     15812       2      4  RB 16, 17   \n",
       "5           43234    QC      NaN     15812       2      5  RB 16, 17   \n",
       "6           43234    QC      NaN     15812       2      6  RB 16, 17   \n",
       "7           43234    QC      NaN     15812       2      7  RB 16, 17   \n",
       "\n",
       "   Neat line Vc  Actual Vc  Waste Vc     ...       Early   % Design   7-Day  \\\n",
       "0           NaN        NaN       NaN     ...          NaN       NaN     NaN   \n",
       "1           NaN        NaN       NaN     ...       2040.0      0.45     NaN   \n",
       "2           NaN        NaN       NaN     ...       2140.0      0.48     NaN   \n",
       "3           NaN        NaN       NaN     ...          NaN       NaN  2950.0   \n",
       "4           NaN        NaN       NaN     ...          NaN       NaN  2770.0   \n",
       "5           NaN        NaN       NaN     ...          NaN       NaN     NaN   \n",
       "6           NaN        NaN       NaN     ...          NaN       NaN     NaN   \n",
       "7           NaN        NaN       NaN     ...          NaN       NaN     NaN   \n",
       "\n",
       "   %Design(7)  10-Day %Design(10)  28-Day %Design(28)  56-Day  %Design(56)  \n",
       "0         NaN     NaN         NaN     NaN         NaN     NaN          NaN  \n",
       "1         NaN     NaN         NaN     NaN         NaN     NaN          NaN  \n",
       "2         NaN     NaN         NaN     NaN         NaN     NaN          NaN  \n",
       "3        0.66     NaN         NaN     NaN         NaN     NaN          NaN  \n",
       "4        0.62     NaN         NaN     NaN         NaN     NaN          NaN  \n",
       "5         NaN  3130.0        0.70     NaN         NaN     NaN          NaN  \n",
       "6         NaN  3120.0        0.69     NaN         NaN     NaN          NaN  \n",
       "7         NaN     NaN         NaN  4530.0        1.01     NaN          NaN  \n",
       "\n",
       "[8 rows x 28 columns]"
      ]
     },
     "execution_count": 2,
     "metadata": {},
     "output_type": "execute_result"
    }
   ],
   "source": [
    "data = pd.read_csv('Mix_Design_V2.0.csv')\n",
    "data[0:8]"
   ]
  },
  {
   "attachments": {},
   "cell_type": "markdown",
   "metadata": {},
   "source": [
    "### Next, I separate out the particular values associated with the 7-Day compressive strength tests. These values are initialized into a separate variable."
   ]
  },
  {
   "cell_type": "code",
   "execution_count": 3,
   "metadata": {},
   "outputs": [],
   "source": [
    "day7 = data['7-Day'].values"
   ]
  },
  {
   "cell_type": "code",
   "execution_count": 4,
   "metadata": {},
   "outputs": [
    {
     "data": {
      "text/plain": [
       "array([  nan,   nan,   nan, 2950., 2770.])"
      ]
     },
     "execution_count": 4,
     "metadata": {},
     "output_type": "execute_result"
    }
   ],
   "source": [
    "day7[0:5]"
   ]
  },
  {
   "cell_type": "markdown",
   "metadata": {},
   "source": [
    "#### Here, I noticed the nan values need to be removed to properly run statistical programs on the file. Conversion from nan to num work was performed. "
   ]
  },
  {
   "cell_type": "code",
   "execution_count": 5,
   "metadata": {},
   "outputs": [],
   "source": [
    "Data = data.fillna(0)"
   ]
  },
  {
   "cell_type": "code",
   "execution_count": 6,
   "metadata": {},
   "outputs": [],
   "source": [
    "day7 = Data['7-Day'].values"
   ]
  },
  {
   "cell_type": "code",
   "execution_count": 7,
   "metadata": {},
   "outputs": [
    {
     "data": {
      "text/html": [
       "<div>\n",
       "<style scoped>\n",
       "    .dataframe tbody tr th:only-of-type {\n",
       "        vertical-align: middle;\n",
       "    }\n",
       "\n",
       "    .dataframe tbody tr th {\n",
       "        vertical-align: top;\n",
       "    }\n",
       "\n",
       "    .dataframe thead th {\n",
       "        text-align: right;\n",
       "    }\n",
       "</style>\n",
       "<table border=\"1\" class=\"dataframe\">\n",
       "  <thead>\n",
       "    <tr style=\"text-align: right;\">\n",
       "      <th></th>\n",
       "      <th>Placement Date</th>\n",
       "      <th>QA QC</th>\n",
       "      <th>Report #</th>\n",
       "      <th>Ticket #</th>\n",
       "      <th>Test #</th>\n",
       "      <th>Cyl ID</th>\n",
       "      <th>Location</th>\n",
       "      <th>Neat line Vc</th>\n",
       "      <th>Actual Vc</th>\n",
       "      <th>Waste Vc</th>\n",
       "      <th>...</th>\n",
       "      <th>Early</th>\n",
       "      <th>% Design</th>\n",
       "      <th>7-Day</th>\n",
       "      <th>%Design(7)</th>\n",
       "      <th>10-Day</th>\n",
       "      <th>%Design(10)</th>\n",
       "      <th>28-Day</th>\n",
       "      <th>%Design(28)</th>\n",
       "      <th>56-Day</th>\n",
       "      <th>%Design(56)</th>\n",
       "    </tr>\n",
       "  </thead>\n",
       "  <tbody>\n",
       "    <tr>\n",
       "      <th>0</th>\n",
       "      <td>43234</td>\n",
       "      <td>QC</td>\n",
       "      <td>0</td>\n",
       "      <td>15812</td>\n",
       "      <td>1</td>\n",
       "      <td>0</td>\n",
       "      <td>RB 16, 17</td>\n",
       "      <td>0.0</td>\n",
       "      <td>0.0</td>\n",
       "      <td>0.0</td>\n",
       "      <td>...</td>\n",
       "      <td>0.0</td>\n",
       "      <td>0.00</td>\n",
       "      <td>0.0</td>\n",
       "      <td>0.00</td>\n",
       "      <td>0.0</td>\n",
       "      <td>0.00</td>\n",
       "      <td>0.0</td>\n",
       "      <td>0.00</td>\n",
       "      <td>0.0</td>\n",
       "      <td>0.0</td>\n",
       "    </tr>\n",
       "    <tr>\n",
       "      <th>1</th>\n",
       "      <td>43234</td>\n",
       "      <td>QC</td>\n",
       "      <td>0</td>\n",
       "      <td>15812</td>\n",
       "      <td>2</td>\n",
       "      <td>1</td>\n",
       "      <td>RB 16, 17</td>\n",
       "      <td>0.0</td>\n",
       "      <td>0.0</td>\n",
       "      <td>0.0</td>\n",
       "      <td>...</td>\n",
       "      <td>2040.0</td>\n",
       "      <td>0.45</td>\n",
       "      <td>0.0</td>\n",
       "      <td>0.00</td>\n",
       "      <td>0.0</td>\n",
       "      <td>0.00</td>\n",
       "      <td>0.0</td>\n",
       "      <td>0.00</td>\n",
       "      <td>0.0</td>\n",
       "      <td>0.0</td>\n",
       "    </tr>\n",
       "    <tr>\n",
       "      <th>2</th>\n",
       "      <td>43234</td>\n",
       "      <td>QC</td>\n",
       "      <td>0</td>\n",
       "      <td>15812</td>\n",
       "      <td>2</td>\n",
       "      <td>2</td>\n",
       "      <td>RB 16, 17</td>\n",
       "      <td>0.0</td>\n",
       "      <td>0.0</td>\n",
       "      <td>0.0</td>\n",
       "      <td>...</td>\n",
       "      <td>2140.0</td>\n",
       "      <td>0.48</td>\n",
       "      <td>0.0</td>\n",
       "      <td>0.00</td>\n",
       "      <td>0.0</td>\n",
       "      <td>0.00</td>\n",
       "      <td>0.0</td>\n",
       "      <td>0.00</td>\n",
       "      <td>0.0</td>\n",
       "      <td>0.0</td>\n",
       "    </tr>\n",
       "    <tr>\n",
       "      <th>3</th>\n",
       "      <td>43234</td>\n",
       "      <td>QC</td>\n",
       "      <td>0</td>\n",
       "      <td>15812</td>\n",
       "      <td>2</td>\n",
       "      <td>3</td>\n",
       "      <td>RB 16, 17</td>\n",
       "      <td>0.0</td>\n",
       "      <td>0.0</td>\n",
       "      <td>0.0</td>\n",
       "      <td>...</td>\n",
       "      <td>0.0</td>\n",
       "      <td>0.00</td>\n",
       "      <td>2950.0</td>\n",
       "      <td>0.66</td>\n",
       "      <td>0.0</td>\n",
       "      <td>0.00</td>\n",
       "      <td>0.0</td>\n",
       "      <td>0.00</td>\n",
       "      <td>0.0</td>\n",
       "      <td>0.0</td>\n",
       "    </tr>\n",
       "    <tr>\n",
       "      <th>4</th>\n",
       "      <td>43234</td>\n",
       "      <td>QC</td>\n",
       "      <td>0</td>\n",
       "      <td>15812</td>\n",
       "      <td>2</td>\n",
       "      <td>4</td>\n",
       "      <td>RB 16, 17</td>\n",
       "      <td>0.0</td>\n",
       "      <td>0.0</td>\n",
       "      <td>0.0</td>\n",
       "      <td>...</td>\n",
       "      <td>0.0</td>\n",
       "      <td>0.00</td>\n",
       "      <td>2770.0</td>\n",
       "      <td>0.62</td>\n",
       "      <td>0.0</td>\n",
       "      <td>0.00</td>\n",
       "      <td>0.0</td>\n",
       "      <td>0.00</td>\n",
       "      <td>0.0</td>\n",
       "      <td>0.0</td>\n",
       "    </tr>\n",
       "    <tr>\n",
       "      <th>5</th>\n",
       "      <td>43234</td>\n",
       "      <td>QC</td>\n",
       "      <td>0</td>\n",
       "      <td>15812</td>\n",
       "      <td>2</td>\n",
       "      <td>5</td>\n",
       "      <td>RB 16, 17</td>\n",
       "      <td>0.0</td>\n",
       "      <td>0.0</td>\n",
       "      <td>0.0</td>\n",
       "      <td>...</td>\n",
       "      <td>0.0</td>\n",
       "      <td>0.00</td>\n",
       "      <td>0.0</td>\n",
       "      <td>0.00</td>\n",
       "      <td>3130.0</td>\n",
       "      <td>0.70</td>\n",
       "      <td>0.0</td>\n",
       "      <td>0.00</td>\n",
       "      <td>0.0</td>\n",
       "      <td>0.0</td>\n",
       "    </tr>\n",
       "    <tr>\n",
       "      <th>6</th>\n",
       "      <td>43234</td>\n",
       "      <td>QC</td>\n",
       "      <td>0</td>\n",
       "      <td>15812</td>\n",
       "      <td>2</td>\n",
       "      <td>6</td>\n",
       "      <td>RB 16, 17</td>\n",
       "      <td>0.0</td>\n",
       "      <td>0.0</td>\n",
       "      <td>0.0</td>\n",
       "      <td>...</td>\n",
       "      <td>0.0</td>\n",
       "      <td>0.00</td>\n",
       "      <td>0.0</td>\n",
       "      <td>0.00</td>\n",
       "      <td>3120.0</td>\n",
       "      <td>0.69</td>\n",
       "      <td>0.0</td>\n",
       "      <td>0.00</td>\n",
       "      <td>0.0</td>\n",
       "      <td>0.0</td>\n",
       "    </tr>\n",
       "    <tr>\n",
       "      <th>7</th>\n",
       "      <td>43234</td>\n",
       "      <td>QC</td>\n",
       "      <td>0</td>\n",
       "      <td>15812</td>\n",
       "      <td>2</td>\n",
       "      <td>7</td>\n",
       "      <td>RB 16, 17</td>\n",
       "      <td>0.0</td>\n",
       "      <td>0.0</td>\n",
       "      <td>0.0</td>\n",
       "      <td>...</td>\n",
       "      <td>0.0</td>\n",
       "      <td>0.00</td>\n",
       "      <td>0.0</td>\n",
       "      <td>0.00</td>\n",
       "      <td>0.0</td>\n",
       "      <td>0.00</td>\n",
       "      <td>4530.0</td>\n",
       "      <td>1.01</td>\n",
       "      <td>0.0</td>\n",
       "      <td>0.0</td>\n",
       "    </tr>\n",
       "  </tbody>\n",
       "</table>\n",
       "<p>8 rows × 28 columns</p>\n",
       "</div>"
      ],
      "text/plain": [
       "   Placement Date QA QC Report #  Ticket #  Test # Cyl ID   Location  \\\n",
       "0           43234    QC        0     15812       1      0  RB 16, 17   \n",
       "1           43234    QC        0     15812       2      1  RB 16, 17   \n",
       "2           43234    QC        0     15812       2      2  RB 16, 17   \n",
       "3           43234    QC        0     15812       2      3  RB 16, 17   \n",
       "4           43234    QC        0     15812       2      4  RB 16, 17   \n",
       "5           43234    QC        0     15812       2      5  RB 16, 17   \n",
       "6           43234    QC        0     15812       2      6  RB 16, 17   \n",
       "7           43234    QC        0     15812       2      7  RB 16, 17   \n",
       "\n",
       "   Neat line Vc  Actual Vc  Waste Vc     ...       Early   % Design   7-Day  \\\n",
       "0           0.0        0.0       0.0     ...          0.0      0.00     0.0   \n",
       "1           0.0        0.0       0.0     ...       2040.0      0.45     0.0   \n",
       "2           0.0        0.0       0.0     ...       2140.0      0.48     0.0   \n",
       "3           0.0        0.0       0.0     ...          0.0      0.00  2950.0   \n",
       "4           0.0        0.0       0.0     ...          0.0      0.00  2770.0   \n",
       "5           0.0        0.0       0.0     ...          0.0      0.00     0.0   \n",
       "6           0.0        0.0       0.0     ...          0.0      0.00     0.0   \n",
       "7           0.0        0.0       0.0     ...          0.0      0.00     0.0   \n",
       "\n",
       "   %Design(7)  10-Day %Design(10)  28-Day %Design(28)  56-Day  %Design(56)  \n",
       "0        0.00     0.0        0.00     0.0        0.00     0.0          0.0  \n",
       "1        0.00     0.0        0.00     0.0        0.00     0.0          0.0  \n",
       "2        0.00     0.0        0.00     0.0        0.00     0.0          0.0  \n",
       "3        0.66     0.0        0.00     0.0        0.00     0.0          0.0  \n",
       "4        0.62     0.0        0.00     0.0        0.00     0.0          0.0  \n",
       "5        0.00  3130.0        0.70     0.0        0.00     0.0          0.0  \n",
       "6        0.00  3120.0        0.69     0.0        0.00     0.0          0.0  \n",
       "7        0.00     0.0        0.00  4530.0        1.01     0.0          0.0  \n",
       "\n",
       "[8 rows x 28 columns]"
      ]
     },
     "execution_count": 7,
     "metadata": {},
     "output_type": "execute_result"
    }
   ],
   "source": [
    "Data[0:8]"
   ]
  },
  {
   "cell_type": "code",
   "execution_count": 8,
   "metadata": {},
   "outputs": [
    {
     "data": {
      "text/plain": [
       "array([   0.,    0.,    0., 2950., 2770.,    0.,    0.,    0.,    0.,\n",
       "          0.])"
      ]
     },
     "execution_count": 8,
     "metadata": {},
     "output_type": "execute_result"
    }
   ],
   "source": [
    "day7[0:10]"
   ]
  },
  {
   "cell_type": "code",
   "execution_count": 9,
   "metadata": {},
   "outputs": [
    {
     "data": {
      "text/plain": [
       "5650.0"
      ]
     },
     "execution_count": 9,
     "metadata": {},
     "output_type": "execute_result"
    }
   ],
   "source": [
    "day7.max()"
   ]
  },
  {
   "cell_type": "markdown",
   "metadata": {},
   "source": [
    "#### Next, graphical representation was required to verify that the values made sense and are consistant.  "
   ]
  },
  {
   "cell_type": "code",
   "execution_count": 10,
   "metadata": {},
   "outputs": [
    {
     "data": {
      "text/plain": [
       "[<matplotlib.lines.Line2D at 0x184868cc0f0>]"
      ]
     },
     "execution_count": 10,
     "metadata": {},
     "output_type": "execute_result"
    },
    {
     "data": {
      "image/png": "[encoded data removed]",
      "text/plain": [
       "<Figure size 432x288 with 1 Axes>"
      ]
     },
     "metadata": {
      "needs_background": "light"
     },
     "output_type": "display_data"
    }
   ],
   "source": [
    "plt.plot(day7)"
   ]
  },
  {
   "attachments": {},
   "cell_type": "markdown",
   "metadata": {},
   "source": [
    "### To display clear and concise graphical representations, the following type of styling, labeling and graph representations will be provided."
   ]
  },
  {
   "cell_type": "code",
   "execution_count": 11,
   "metadata": {},
   "outputs": [
    {
     "data": {
      "text/plain": [
       "<matplotlib.legend.Legend at 0x1848695b2e8>"
      ]
     },
     "execution_count": 11,
     "metadata": {},
     "output_type": "execute_result"
    },
    {
     "data": {
      "image/png": "[encoded data removed]",
      "text/plain": [
       "<Figure size 450x300 with 1 Axes>"
      ]
     },
     "metadata": {
      "needs_background": "light"
     },
     "output_type": "display_data"
    }
   ],
   "source": [
    "fig1 = plt.figure(figsize=(3.0, 2.0), dpi = 150)\n",
    "plt.rcParams.update({'font.size':8})\n",
    "plt.plot(day7,label= '7-Day strength')\n",
    "plt.ylabel('Strength in psi', fontname = \"Times New Roman\", color = 'blue')\n",
    "plt.xlabel('Sample number [m${}^3$/s]', fontname = \"Times New Roman\", color = 'Blue')\n",
    "plt.title('7-Day Strength Results', fontsize = 10, color = 'Blue')\n",
    "plt.legend(loc=0)"
   ]
  },
  {
   "attachments": {},
   "cell_type": "markdown",
   "metadata": {},
   "source": [
    "#### The graph now show the 7-Day compressive strength for each sample, the next step is to determine the values for other samples.  Graphical representation will be performed similarly with the following test results."
   ]
  },
  {
   "cell_type": "code",
   "execution_count": 12,
   "metadata": {},
   "outputs": [],
   "source": [
    "day10 = Data['10-Day'].values"
   ]
  },
  {
   "cell_type": "code",
   "execution_count": 13,
   "metadata": {},
   "outputs": [],
   "source": [
    "day28 = Data['28-Day'].values"
   ]
  },
  {
   "cell_type": "code",
   "execution_count": 14,
   "metadata": {},
   "outputs": [],
   "source": [
    "day56 = Data['56-Day'].values"
   ]
  },
  {
   "attachments": {},
   "cell_type": "markdown",
   "metadata": {},
   "source": [
    "#### Once the data is successfully presented graphically, statistical information can be extrapolated from that data. The intent of this project is to perform statistics on the provided data set, and potentially make future predictions. The variables are numerous in this data set, and often there are nan values in empty place holders. The data does have enough information that the inference of future strength properties may be made given variance of input parameters such as temperature, are and moisture content. Most of the test data provides an actual strength to be much larger than the design strength. Noting this, probabilistic analysis may be performed to determine the probability of producing a concrete sample that may have strength less than that of the design strength. To perform this, Monte Carlo simulation may be used. To perform Monte Carlo simulation, random selection of input parameters will generate a mostly likely output parameter in the form of a probability density function. "
   ]
  },
  {
   "cell_type": "markdown",
   "metadata": {},
   "source": [
    "#### Generating random numbers between given max and min values for Monte Carlo Simulation may be performed as follows. "
   ]
  },
  {
   "cell_type": "code",
   "execution_count": 15,
   "metadata": {},
   "outputs": [],
   "source": [
    "import random\n",
    "\n",
    "def rollDice():\n",
    "    roll = random.randint(1,100)\n",
    "    return roll\n",
    "\n",
    "# Now, just to test our dice, let's roll the dice 100 times. \n",
    "\n",
    "x = 0\n",
    "while x < 100:\n",
    "    result = rollDice()\n",
    "    #print(result)\n",
    "    x+=1"
   ]
  },
  {
   "cell_type": "markdown",
   "metadata": {},
   "source": [
    "### Using the method shown above, simulations will be ran between several input parameters provided within the data set. Potentially, for a given sample a prediction could be made on the strength of that sample. Verification can be made as the 56-day test results are included with the test data. If the simulations prove to be sufficient in the predictions, further modeling will be performed. "
   ]
  }
 ],
 "metadata": {
  "kernelspec": {
   "display_name": "Python 3",
   "language": "python",
   "name": "python3"
  },
  "language_info": {
   "codemirror_mode": {
    "name": "ipython",
    "version": 3
   },
   "file_extension": ".py",
   "mimetype": "text/x-python",
   "name": "python",
   "nbconvert_exporter": "python",
   "pygments_lexer": "ipython3",
   "version": "3.6.7"
  }
 },
 "nbformat": 4,
 "nbformat_minor": 2
}
