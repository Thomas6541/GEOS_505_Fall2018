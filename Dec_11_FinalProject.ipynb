{
 "cells": [
  {
   "cell_type": "markdown",
   "metadata": {},
   "source": [
    "### Final Project GEOS 505: Thomas Robbins\n",
    "##### The single most used material for construction of civil infrastructure is reinforced concrete. The versatility and use of this material ranges from simple applications such as sidewalks, to highly complex applications such as dams and high-rise buildings. To ensure that the concrete is being designed to required specifications, several intermediate controls are used to verify and test quality assurance and quality control (QA/QC). The first method to implement QA/QC is the engineered mix design. The second method is in place testing. Testing is performed through several methods which include slump test, entrained air test, and compressive strength testing. Testing is used to ensure development of proper strength properties for each application. For the purpose of this project I intend to collect test results data from a federal agency, then identify the statistical variance between the design parameters and the final design strength given in the data. Considering the variability of mix designs, placement methods and environmental factors, test results should show similar variability. Given the importance of the strength parameters the concrete should not vary less than the given design. From basic statistical analysis, I should be able to produce a graph that identifies the strength parameters of the mix, and correlate the results with the input variables such as outside air temperature, slump test results, entrained air and unit weight of the concrete. If properly assessed, the potential of this work could make reasonable predictions of mix design strength parameters, given variation of input values. Further, Monte Carlo simulation will be performed on given data and a probability density function of the results will then be used assess at what confidence a prediction can be made. Results and analysis methods are subject to change given the complexity and availability of selected data."
   ]
  },
  {
   "cell_type": "markdown",
   "metadata": {},
   "source": [
    "##### The first step was to import the required libraries to read the input file "
   ]
  },
  {
   "cell_type": "code",
   "execution_count": 1,
   "metadata": {},
   "outputs": [],
   "source": [
    "import pandas as pd\n",
    "import csv\n",
    "import matplotlib.pyplot as plt\n",
    "import numpy as np"
   ]
  },
  {
   "cell_type": "markdown",
   "metadata": {},
   "source": [
    "#### Next step was to use pandas to read the csv file. In order to properly read some of the values, I had to truncate the values in certain cells. This was due to the file containing a degree symbol and unit written with each temperature value. "
   ]
  },
  {
   "cell_type": "code",
   "execution_count": 2,
   "metadata": {},
   "outputs": [
    {
     "data": {
      "text/html": [
       "<div>\n",
       "<style scoped>\n",
       "    .dataframe tbody tr th:only-of-type {\n",
       "        vertical-align: middle;\n",
       "    }\n",
       "\n",
       "    .dataframe tbody tr th {\n",
       "        vertical-align: top;\n",
       "    }\n",
       "\n",
       "    .dataframe thead th {\n",
       "        text-align: right;\n",
       "    }\n",
       "</style>\n",
       "<table border=\"1\" class=\"dataframe\">\n",
       "  <thead>\n",
       "    <tr style=\"text-align: right;\">\n",
       "      <th></th>\n",
       "      <th>PlacementDate</th>\n",
       "      <th>QA_QC</th>\n",
       "      <th>Report #</th>\n",
       "      <th>TicketNum</th>\n",
       "      <th>TestNum</th>\n",
       "      <th>Cyl_ID</th>\n",
       "      <th>Location</th>\n",
       "      <th>Neat_line_Vc</th>\n",
       "      <th>Actual_Vc</th>\n",
       "      <th>Waste_Vc</th>\n",
       "      <th>...</th>\n",
       "      <th>Early</th>\n",
       "      <th>Perc_Design</th>\n",
       "      <th>sevenDay</th>\n",
       "      <th>Perc_Design_seven</th>\n",
       "      <th>tenDay</th>\n",
       "      <th>perc_Design_ten</th>\n",
       "      <th>twoeight_Day</th>\n",
       "      <th>Perc_DesignTwoEight</th>\n",
       "      <th>fiveSix_Day</th>\n",
       "      <th>perc_Design_fivesix</th>\n",
       "    </tr>\n",
       "  </thead>\n",
       "  <tbody>\n",
       "    <tr>\n",
       "      <th>0</th>\n",
       "      <td>43234</td>\n",
       "      <td>QC</td>\n",
       "      <td>NaN</td>\n",
       "      <td>15812</td>\n",
       "      <td>1</td>\n",
       "      <td>NaN</td>\n",
       "      <td>RB 16, 17</td>\n",
       "      <td>NaN</td>\n",
       "      <td>NaN</td>\n",
       "      <td>NaN</td>\n",
       "      <td>...</td>\n",
       "      <td>NaN</td>\n",
       "      <td>NaN</td>\n",
       "      <td>NaN</td>\n",
       "      <td>NaN</td>\n",
       "      <td>NaN</td>\n",
       "      <td>NaN</td>\n",
       "      <td>NaN</td>\n",
       "      <td>NaN</td>\n",
       "      <td>NaN</td>\n",
       "      <td>NaN</td>\n",
       "    </tr>\n",
       "    <tr>\n",
       "      <th>1</th>\n",
       "      <td>43234</td>\n",
       "      <td>QC</td>\n",
       "      <td>NaN</td>\n",
       "      <td>15812</td>\n",
       "      <td>2</td>\n",
       "      <td>1</td>\n",
       "      <td>RB 16, 17</td>\n",
       "      <td>NaN</td>\n",
       "      <td>NaN</td>\n",
       "      <td>NaN</td>\n",
       "      <td>...</td>\n",
       "      <td>2040.0</td>\n",
       "      <td>0.45</td>\n",
       "      <td>NaN</td>\n",
       "      <td>NaN</td>\n",
       "      <td>NaN</td>\n",
       "      <td>NaN</td>\n",
       "      <td>NaN</td>\n",
       "      <td>NaN</td>\n",
       "      <td>NaN</td>\n",
       "      <td>NaN</td>\n",
       "    </tr>\n",
       "    <tr>\n",
       "      <th>2</th>\n",
       "      <td>43234</td>\n",
       "      <td>QC</td>\n",
       "      <td>NaN</td>\n",
       "      <td>15812</td>\n",
       "      <td>2</td>\n",
       "      <td>2</td>\n",
       "      <td>RB 16, 17</td>\n",
       "      <td>NaN</td>\n",
       "      <td>NaN</td>\n",
       "      <td>NaN</td>\n",
       "      <td>...</td>\n",
       "      <td>2140.0</td>\n",
       "      <td>0.48</td>\n",
       "      <td>NaN</td>\n",
       "      <td>NaN</td>\n",
       "      <td>NaN</td>\n",
       "      <td>NaN</td>\n",
       "      <td>NaN</td>\n",
       "      <td>NaN</td>\n",
       "      <td>NaN</td>\n",
       "      <td>NaN</td>\n",
       "    </tr>\n",
       "    <tr>\n",
       "      <th>3</th>\n",
       "      <td>43234</td>\n",
       "      <td>QC</td>\n",
       "      <td>NaN</td>\n",
       "      <td>15812</td>\n",
       "      <td>2</td>\n",
       "      <td>3</td>\n",
       "      <td>RB 16, 17</td>\n",
       "      <td>NaN</td>\n",
       "      <td>NaN</td>\n",
       "      <td>NaN</td>\n",
       "      <td>...</td>\n",
       "      <td>NaN</td>\n",
       "      <td>NaN</td>\n",
       "      <td>2950.0</td>\n",
       "      <td>0.66</td>\n",
       "      <td>NaN</td>\n",
       "      <td>NaN</td>\n",
       "      <td>NaN</td>\n",
       "      <td>NaN</td>\n",
       "      <td>NaN</td>\n",
       "      <td>NaN</td>\n",
       "    </tr>\n",
       "  </tbody>\n",
       "</table>\n",
       "<p>4 rows × 28 columns</p>\n",
       "</div>"
      ],
      "text/plain": [
       "   PlacementDate QA_QC Report #  TicketNum  TestNum Cyl_ID   Location  \\\n",
       "0          43234    QC      NaN      15812        1    NaN  RB 16, 17   \n",
       "1          43234    QC      NaN      15812        2      1  RB 16, 17   \n",
       "2          43234    QC      NaN      15812        2      2  RB 16, 17   \n",
       "3          43234    QC      NaN      15812        2      3  RB 16, 17   \n",
       "\n",
       "   Neat_line_Vc  Actual_Vc  Waste_Vc         ...            Early  \\\n",
       "0           NaN        NaN       NaN         ...              NaN   \n",
       "1           NaN        NaN       NaN         ...           2040.0   \n",
       "2           NaN        NaN       NaN         ...           2140.0   \n",
       "3           NaN        NaN       NaN         ...              NaN   \n",
       "\n",
       "   Perc_Design sevenDay  Perc_Design_seven  tenDay perc_Design_ten  \\\n",
       "0          NaN      NaN                NaN     NaN             NaN   \n",
       "1         0.45      NaN                NaN     NaN             NaN   \n",
       "2         0.48      NaN                NaN     NaN             NaN   \n",
       "3          NaN   2950.0               0.66     NaN             NaN   \n",
       "\n",
       "  twoeight_Day Perc_DesignTwoEight  fiveSix_Day  perc_Design_fivesix  \n",
       "0          NaN                 NaN          NaN                  NaN  \n",
       "1          NaN                 NaN          NaN                  NaN  \n",
       "2          NaN                 NaN          NaN                  NaN  \n",
       "3          NaN                 NaN          NaN                  NaN  \n",
       "\n",
       "[4 rows x 28 columns]"
      ]
     },
     "execution_count": 2,
     "metadata": {},
     "output_type": "execute_result"
    }
   ],
   "source": [
    "data = pd.read_csv('Mix_Design_V2.0.csv',converters={\"Air_Temp\": lambda x: x[:2],\"Concrete_Temp\": lambda x: x[:2]})\n",
    "data[0:4]"
   ]
  },
  {
   "cell_type": "markdown",
   "metadata": {},
   "source": [
    "#### From the displayed table in the previous line, the cells that do not contain values are represented as NaN. Also, the temperature values are being read as characters and not numeric values. The following code is an attempt to correct these issues. "
   ]
  },
  {
   "cell_type": "code",
   "execution_count": 3,
   "metadata": {},
   "outputs": [
    {
     "data": {
      "text/plain": [
       "array([nan, 79., 79., 79., 79.])"
      ]
     },
     "execution_count": 3,
     "metadata": {},
     "output_type": "execute_result"
    }
   ],
   "source": [
    "AirTemp = data['Air_Temp'].values\n",
    "AirTemp = pd.to_numeric(AirTemp)\n",
    "AirTemp[0:5]"
   ]
  },
  {
   "cell_type": "code",
   "execution_count": 4,
   "metadata": {},
   "outputs": [
    {
     "data": {
      "text/plain": [
       "array([73., 69., 69., 69., 69.])"
      ]
     },
     "execution_count": 4,
     "metadata": {},
     "output_type": "execute_result"
    }
   ],
   "source": [
    "ConTemp = data['Concrete_Temp'].values\n",
    "ConTemp = pd.to_numeric(ConTemp)\n",
    "ConTemp[0:5]"
   ]
  },
  {
   "cell_type": "markdown",
   "metadata": {},
   "source": [
    "##### Next I needed to insert the new numeric temperature values to the entire data set."
   ]
  },
  {
   "cell_type": "code",
   "execution_count": 5,
   "metadata": {},
   "outputs": [],
   "source": [
    "data['Air_Temp'] = AirTemp\n",
    "data['Concrete_Temp'] = ConTemp"
   ]
  },
  {
   "cell_type": "markdown",
   "metadata": {},
   "source": [
    "##### After all the values were properly identified as numeric, I inserted zeros everywhere a 'NaN' value was reported. "
   ]
  },
  {
   "cell_type": "code",
   "execution_count": 6,
   "metadata": {},
   "outputs": [
    {
     "data": {
      "text/html": [
       "<div>\n",
       "<style scoped>\n",
       "    .dataframe tbody tr th:only-of-type {\n",
       "        vertical-align: middle;\n",
       "    }\n",
       "\n",
       "    .dataframe tbody tr th {\n",
       "        vertical-align: top;\n",
       "    }\n",
       "\n",
       "    .dataframe thead th {\n",
       "        text-align: right;\n",
       "    }\n",
       "</style>\n",
       "<table border=\"1\" class=\"dataframe\">\n",
       "  <thead>\n",
       "    <tr style=\"text-align: right;\">\n",
       "      <th></th>\n",
       "      <th>PlacementDate</th>\n",
       "      <th>QA_QC</th>\n",
       "      <th>Report #</th>\n",
       "      <th>TicketNum</th>\n",
       "      <th>TestNum</th>\n",
       "      <th>Cyl_ID</th>\n",
       "      <th>Location</th>\n",
       "      <th>Neat_line_Vc</th>\n",
       "      <th>Actual_Vc</th>\n",
       "      <th>Waste_Vc</th>\n",
       "      <th>...</th>\n",
       "      <th>Early</th>\n",
       "      <th>Perc_Design</th>\n",
       "      <th>sevenDay</th>\n",
       "      <th>Perc_Design_seven</th>\n",
       "      <th>tenDay</th>\n",
       "      <th>perc_Design_ten</th>\n",
       "      <th>twoeight_Day</th>\n",
       "      <th>Perc_DesignTwoEight</th>\n",
       "      <th>fiveSix_Day</th>\n",
       "      <th>perc_Design_fivesix</th>\n",
       "    </tr>\n",
       "  </thead>\n",
       "  <tbody>\n",
       "    <tr>\n",
       "      <th>0</th>\n",
       "      <td>43234</td>\n",
       "      <td>QC</td>\n",
       "      <td>NaN</td>\n",
       "      <td>15812</td>\n",
       "      <td>1</td>\n",
       "      <td>NaN</td>\n",
       "      <td>RB 16, 17</td>\n",
       "      <td>NaN</td>\n",
       "      <td>NaN</td>\n",
       "      <td>NaN</td>\n",
       "      <td>...</td>\n",
       "      <td>NaN</td>\n",
       "      <td>NaN</td>\n",
       "      <td>NaN</td>\n",
       "      <td>NaN</td>\n",
       "      <td>NaN</td>\n",
       "      <td>NaN</td>\n",
       "      <td>NaN</td>\n",
       "      <td>NaN</td>\n",
       "      <td>NaN</td>\n",
       "      <td>NaN</td>\n",
       "    </tr>\n",
       "    <tr>\n",
       "      <th>1</th>\n",
       "      <td>43234</td>\n",
       "      <td>QC</td>\n",
       "      <td>NaN</td>\n",
       "      <td>15812</td>\n",
       "      <td>2</td>\n",
       "      <td>1</td>\n",
       "      <td>RB 16, 17</td>\n",
       "      <td>NaN</td>\n",
       "      <td>NaN</td>\n",
       "      <td>NaN</td>\n",
       "      <td>...</td>\n",
       "      <td>2040.0</td>\n",
       "      <td>0.45</td>\n",
       "      <td>NaN</td>\n",
       "      <td>NaN</td>\n",
       "      <td>NaN</td>\n",
       "      <td>NaN</td>\n",
       "      <td>NaN</td>\n",
       "      <td>NaN</td>\n",
       "      <td>NaN</td>\n",
       "      <td>NaN</td>\n",
       "    </tr>\n",
       "    <tr>\n",
       "      <th>2</th>\n",
       "      <td>43234</td>\n",
       "      <td>QC</td>\n",
       "      <td>NaN</td>\n",
       "      <td>15812</td>\n",
       "      <td>2</td>\n",
       "      <td>2</td>\n",
       "      <td>RB 16, 17</td>\n",
       "      <td>NaN</td>\n",
       "      <td>NaN</td>\n",
       "      <td>NaN</td>\n",
       "      <td>...</td>\n",
       "      <td>2140.0</td>\n",
       "      <td>0.48</td>\n",
       "      <td>NaN</td>\n",
       "      <td>NaN</td>\n",
       "      <td>NaN</td>\n",
       "      <td>NaN</td>\n",
       "      <td>NaN</td>\n",
       "      <td>NaN</td>\n",
       "      <td>NaN</td>\n",
       "      <td>NaN</td>\n",
       "    </tr>\n",
       "    <tr>\n",
       "      <th>3</th>\n",
       "      <td>43234</td>\n",
       "      <td>QC</td>\n",
       "      <td>NaN</td>\n",
       "      <td>15812</td>\n",
       "      <td>2</td>\n",
       "      <td>3</td>\n",
       "      <td>RB 16, 17</td>\n",
       "      <td>NaN</td>\n",
       "      <td>NaN</td>\n",
       "      <td>NaN</td>\n",
       "      <td>...</td>\n",
       "      <td>NaN</td>\n",
       "      <td>NaN</td>\n",
       "      <td>2950.0</td>\n",
       "      <td>0.66</td>\n",
       "      <td>NaN</td>\n",
       "      <td>NaN</td>\n",
       "      <td>NaN</td>\n",
       "      <td>NaN</td>\n",
       "      <td>NaN</td>\n",
       "      <td>NaN</td>\n",
       "    </tr>\n",
       "  </tbody>\n",
       "</table>\n",
       "<p>4 rows × 28 columns</p>\n",
       "</div>"
      ],
      "text/plain": [
       "   PlacementDate QA_QC Report #  TicketNum  TestNum Cyl_ID   Location  \\\n",
       "0          43234    QC      NaN      15812        1    NaN  RB 16, 17   \n",
       "1          43234    QC      NaN      15812        2      1  RB 16, 17   \n",
       "2          43234    QC      NaN      15812        2      2  RB 16, 17   \n",
       "3          43234    QC      NaN      15812        2      3  RB 16, 17   \n",
       "\n",
       "   Neat_line_Vc  Actual_Vc  Waste_Vc         ...            Early  \\\n",
       "0           NaN        NaN       NaN         ...              NaN   \n",
       "1           NaN        NaN       NaN         ...           2040.0   \n",
       "2           NaN        NaN       NaN         ...           2140.0   \n",
       "3           NaN        NaN       NaN         ...              NaN   \n",
       "\n",
       "   Perc_Design sevenDay  Perc_Design_seven  tenDay  perc_Design_ten  \\\n",
       "0          NaN      NaN                NaN     NaN              NaN   \n",
       "1         0.45      NaN                NaN     NaN              NaN   \n",
       "2         0.48      NaN                NaN     NaN              NaN   \n",
       "3          NaN   2950.0               0.66     NaN              NaN   \n",
       "\n",
       "   twoeight_Day Perc_DesignTwoEight  fiveSix_Day  perc_Design_fivesix  \n",
       "0           NaN                 NaN          NaN                  NaN  \n",
       "1           NaN                 NaN          NaN                  NaN  \n",
       "2           NaN                 NaN          NaN                  NaN  \n",
       "3           NaN                 NaN          NaN                  NaN  \n",
       "\n",
       "[4 rows x 28 columns]"
      ]
     },
     "execution_count": 6,
     "metadata": {},
     "output_type": "execute_result"
    }
   ],
   "source": [
    "Data = data.fillna(0)\n",
    "Data = data\n",
    "airtemp = Data['Air_Temp'].values\n",
    "Data[0:4]"
   ]
  },
  {
   "cell_type": "markdown",
   "metadata": {},
   "source": [
    "##### Next, I wanted to see what the data looked like without NaN values. This posed a problem as some of the values were reporting zeros, which skewed the statistics performed later. "
   ]
  },
  {
   "cell_type": "code",
   "execution_count": 7,
   "metadata": {},
   "outputs": [
    {
     "name": "stdout",
     "output_type": "stream",
     "text": [
      "       PlacementDate      TicketNum     TestNum  Neat_line_Vc  Actual_Vc  \\\n",
      "count     898.000000     898.000000  898.000000  1.900000e+01       19.0   \n",
      "mean    42975.458797   14730.514477    1.758352  3.037000e+01       38.0   \n",
      "std        94.074113   13934.329070    0.699229  3.650066e-15        0.0   \n",
      "min     42880.000000   10912.000000    1.000000  3.037000e+01       38.0   \n",
      "25%     42941.250000   11757.000000    1.000000  3.037000e+01       38.0   \n",
      "50%     42955.000000   12234.000000    2.000000  3.037000e+01       38.0   \n",
      "75%     42964.000000   12617.000000    2.000000  3.037000e+01       38.0   \n",
      "max     43326.000000  157193.000000    4.000000  3.037000e+01       38.0   \n",
      "\n",
      "       Waste_Vc   Design_PSI    slump_in    Perc_Air    Air_Temp  \\\n",
      "count       0.0   898.000000  883.000000  883.000000  878.000000   \n",
      "mean        NaN  4436.530067    6.942809    0.059929   71.349658   \n",
      "std         NaN   302.133779    1.686023    0.016350   11.361363   \n",
      "min         NaN  3000.000000    2.000000    0.037000   41.000000   \n",
      "25%         NaN  4500.000000    6.500000    0.052000   62.000000   \n",
      "50%         NaN  4500.000000    7.500000    0.058000   70.000000   \n",
      "75%         NaN  4500.000000    8.000000    0.068000   80.000000   \n",
      "max         NaN  4503.000000    9.500000    0.450000   96.000000   \n",
      "\n",
      "              ...                 Early  Perc_Design     sevenDay  \\\n",
      "count         ...             21.000000    21.000000   117.000000   \n",
      "mean          ...           3496.190476     0.777143  4509.829060   \n",
      "std           ...           1170.864963     0.260118   598.991945   \n",
      "min           ...           1830.000000     0.410000  2770.000000   \n",
      "25%           ...           2690.000000     0.600000  4110.000000   \n",
      "50%           ...           3260.000000     0.720000  4550.000000   \n",
      "75%           ...           3860.000000     0.860000  4990.000000   \n",
      "max           ...           5810.000000     1.290000  5650.000000   \n",
      "\n",
      "       Perc_Design_seven       tenDay  perc_Design_ten  twoeight_Day  \\\n",
      "count         123.000000   110.000000       116.000000     62.000000   \n",
      "mean            0.959187  5040.190909         1.068621   5951.612903   \n",
      "std             0.251568   679.392990         0.287420    690.908629   \n",
      "min             0.000000  3120.000000         0.000000   4530.000000   \n",
      "25%             0.910000  4592.500000         1.017500   5562.500000   \n",
      "50%             1.010000  5090.000000         1.130000   5975.000000   \n",
      "75%             1.105000  5457.500000         1.210000   6552.500000   \n",
      "max             1.260000  6410.000000         1.420000   7200.000000   \n",
      "\n",
      "       Perc_DesignTwoEight  fiveSix_Day  perc_Design_fivesix  \n",
      "count            62.000000          0.0                  0.0  \n",
      "mean              1.323387          NaN                  NaN  \n",
      "std               0.153270          NaN                  NaN  \n",
      "min               1.010000          NaN                  NaN  \n",
      "25%               1.232500          NaN                  NaN  \n",
      "50%               1.330000          NaN                  NaN  \n",
      "75%               1.457500          NaN                  NaN  \n",
      "max               1.600000          NaN                  NaN  \n",
      "\n",
      "[8 rows x 21 columns]\n"
     ]
    }
   ],
   "source": [
    "print(Data.describe())"
   ]
  },
  {
   "cell_type": "markdown",
   "metadata": {},
   "source": [
    "##### Next, I verified that the csv file was formatted to well enough to perform statistical operations. Noting there are several columns in the file that are not required for computations, I created new data frames. One for the input variables, one for the output strength, and another that had both. "
   ]
  },
  {
   "cell_type": "code",
   "execution_count": 8,
   "metadata": {},
   "outputs": [],
   "source": [
    "Data_vars = Data[['slump_in','Perc_Air','Air_Temp','Concrete_Temp']]\n",
    "Data_strength = Data[['Design_PSI','sevenDay','tenDay','twoeight_Day','fiveSix_Day']]\n",
    "DataTrunc = Data[['slump_in','Perc_Air','Air_Temp','Concrete_Temp','Design_PSI','sevenDay','tenDay','twoeight_Day']]\n",
    "DataTrunc = DataTrunc.fillna(3000)"
   ]
  },
  {
   "cell_type": "markdown",
   "metadata": {},
   "source": [
    "##### After setting the new data frame to have only the specific variables that I required, I attempted to plot a graphical representation on the basic statistical parameters for each variable. Note here that there is a clear issue with the results, as the zeros that I previously inserted into the csv file have skewed the data so that the mean and standard deviations are incorrect. "
   ]
  },
  {
   "cell_type": "code",
   "execution_count": 9,
   "metadata": {},
   "outputs": [
    {
     "data": {
      "image/png": "[encoded data removed]",
      "text/plain": [
       "<Figure size 432x288 with 4 Axes>"
      ]
     },
     "metadata": {
      "needs_background": "light"
     },
     "output_type": "display_data"
    }
   ],
   "source": [
    "Data_vars.plot(kind='box', subplots=True)\n",
    "plt.tight_layout()"
   ]
  },
  {
   "cell_type": "code",
   "execution_count": 10,
   "metadata": {},
   "outputs": [
    {
     "data": {
      "image/png": "[encoded data removed]",
      "text/plain": [
       "<Figure size 432x288 with 5 Axes>"
      ]
     },
     "metadata": {
      "needs_background": "light"
     },
     "output_type": "display_data"
    }
   ],
   "source": [
    "Data_strength.plot(kind='box', subplots=True)\n",
    "plt.tight_layout()"
   ]
  },
  {
   "cell_type": "markdown",
   "metadata": {},
   "source": [
    "#### To correct the issue of the zeros skewing the results, I needed to select the particular rows that contained actual results data. This was cumbersome as the each column has zeros, and the actual result values are offset in the csv file. This means that I could not just run one line of code to eliminate rows with zeros, as all rows would be neglected. I had to select rows based on which column value I wanted, then use these as new indexed data frames to run statistical parameters on. "
   ]
  },
  {
   "cell_type": "code",
   "execution_count": 11,
   "metadata": {},
   "outputs": [],
   "source": [
    "slump = Data.loc[Data['slump_in'] !=0]\n",
    "percAir = Data.loc[Data['Perc_Air'] !=0]\n",
    "tempAir = Data.loc[Data['Air_Temp'] !=0]\n",
    "tempCon = Data.loc[Data['Concrete_Temp'] !=0]"
   ]
  },
  {
   "cell_type": "code",
   "execution_count": 12,
   "metadata": {},
   "outputs": [],
   "source": [
    "early = Data.loc[Data['Early'] != 0]  \n",
    "day7 = Data.loc[Data['sevenDay'] != 0]\n",
    "day10 = Data.loc[Data['tenDay'] != 0]\n",
    "day28 = Data.loc[Data['twoeight_Day'] != 0]\n",
    "day56 = Data.loc[Data['fiveSix_Day'] != 0]"
   ]
  },
  {
   "cell_type": "markdown",
   "metadata": {},
   "source": [
    "##### Now that the values are neglecting the many zeros within the data frame, I can print new box plots. "
   ]
  },
  {
   "cell_type": "code",
   "execution_count": 13,
   "metadata": {},
   "outputs": [
    {
     "data": {
      "image/png": "[encoded data removed]",
      "text/plain": [
       "<Figure size 432x288 with 4 Axes>"
      ]
     },
     "metadata": {
      "needs_background": "light"
     },
     "output_type": "display_data"
    }
   ],
   "source": [
    "fig = plt.figure()\n",
    "\n",
    "plt.subplot(2, 2, 2)\n",
    "plt.ylabel('(psi)')\n",
    "day7.boxplot(column='sevenDay')\n",
    "\n",
    "plt.subplot(2, 2, 3)\n",
    "plt.ylabel('(psi)')\n",
    "day10.boxplot(column='tenDay')\n",
    "\n",
    "plt.subplot(2, 2, 4)\n",
    "plt.ylabel('(psi)')\n",
    "day28.boxplot(column='twoeight_Day')\n",
    "\n",
    "plt.subplot(2, 2, 1)\n",
    "plt.ylabel('(psi)')\n",
    "early.boxplot(column='Early')\n",
    "\n",
    "plt.tight_layout()"
   ]
  },
  {
   "cell_type": "code",
   "execution_count": 14,
   "metadata": {},
   "outputs": [
    {
     "data": {
      "image/png": "[encoded data removed]",
      "text/plain": [
       "<Figure size 432x288 with 4 Axes>"
      ]
     },
     "metadata": {
      "needs_background": "light"
     },
     "output_type": "display_data"
    }
   ],
   "source": [
    "fig = plt.figure()\n",
    "\n",
    "plt.subplot(2, 2, 1)\n",
    "plt.ylabel('(Inches)')\n",
    "slump.boxplot(column='slump_in')\n",
    "\n",
    "plt.subplot(2, 2, 2)\n",
    "plt.ylabel('(Percent)')\n",
    "percAir.boxplot(column='Perc_Air')\n",
    "\n",
    "plt.subplot(2, 2, 3)\n",
    "plt.ylabel('Degree (F)')\n",
    "tempAir.boxplot(column='Air_Temp')\n",
    "\n",
    "plt.subplot(2, 2, 4)\n",
    "plt.ylabel('Degree (F)')\n",
    "tempCon.boxplot(column='Concrete_Temp')\n",
    "\n",
    "plt.tight_layout()"
   ]
  },
  {
   "cell_type": "code",
   "execution_count": 15,
   "metadata": {},
   "outputs": [
    {
     "name": "stdout",
     "output_type": "stream",
     "text": [
      "('7-day_max =', 5650.0)\n",
      "('7-day_min =', 2770.0)\n",
      "('7-day_StdDev=', 598.9919447187094)\n"
     ]
    }
   ],
   "source": [
    "print('7-day_max =',day7['sevenDay'].max());\n",
    "print('7-day_min =',day7['sevenDay'].min());\n",
    "print('7-day_StdDev=',day7['sevenDay'].std())"
   ]
  },
  {
   "cell_type": "markdown",
   "metadata": {},
   "source": [
    "##### Now that the variables are able to be used to compute the required statistics, a new issue arises. In order to bring everything into one input variable, I will have to append all the new, zero-absent, data frames into one unified index. This will cause problems as all the zeros will be reinserted. Currently, I use \"DataTrunc\" as the input index, and that has zeros. Which produces very boxy boxes. "
   ]
  },
  {
   "cell_type": "code",
   "execution_count": 16,
   "metadata": {},
   "outputs": [],
   "source": [
    "# This section of code is used to import additional libraries\n",
    "import scipy\n",
    "import sklearn"
   ]
  },
  {
   "cell_type": "code",
   "execution_count": 17,
   "metadata": {},
   "outputs": [],
   "source": [
    "# This code loads additional regression libraries\n",
    "from pandas.plotting import scatter_matrix\n",
    "from sklearn import model_selection\n",
    "from sklearn.metrics import classification_report\n",
    "from sklearn.metrics import confusion_matrix\n",
    "from sklearn.metrics import accuracy_score\n",
    "from sklearn.linear_model import LogisticRegression\n",
    "from sklearn.tree import DecisionTreeClassifier\n",
    "from sklearn.neighbors import KNeighborsClassifier\n",
    "from sklearn.discriminant_analysis import LinearDiscriminantAnalysis\n",
    "from sklearn.naive_bayes import GaussianNB\n",
    "from sklearn.svm import SVC\n",
    "from sklearn import preprocessing\n",
    "from sklearn import utils"
   ]
  },
  {
   "cell_type": "code",
   "execution_count": 18,
   "metadata": {},
   "outputs": [],
   "source": [
    "# Split-out validation dataset \n",
    "array = DataTrunc.values\n",
    "X = array[:,0:4]  # cannot change these values because it says beyond the bounds. \n",
    "Y = array[:,4]  # dido\n",
    "validation_size = 0.20\n",
    "seed = 7\n",
    "X_train, X_validation, Y_train, Y_validation = model_selection.train_test_split(X, Y, test_size=validation_size, random_state=seed)"
   ]
  },
  {
   "cell_type": "code",
   "execution_count": 19,
   "metadata": {},
   "outputs": [],
   "source": [
    "# Test options and evaluation metric\n",
    "seed = 7\n",
    "scoring = 'accuracy'"
   ]
  },
  {
   "cell_type": "markdown",
   "metadata": {},
   "source": [
    "#### This next code runs regression models on the csv file. Here I was able to output accuracy and model fit"
   ]
  },
  {
   "cell_type": "code",
   "execution_count": 20,
   "metadata": {},
   "outputs": [
    {
     "name": "stdout",
     "output_type": "stream",
     "text": [
      "LR: 0.972164 (0.013870)\n",
      "LDA: 0.972164 (0.013870)\n",
      "KNN: 0.983314 (0.021334)\n",
      "CART: 0.984722 (0.018056)\n",
      "NB: 0.948513 (0.019616)\n",
      "SVM: 0.980516 (0.009190)\n"
     ]
    }
   ],
   "source": [
    "# Spot Check Algorithms\n",
    "models = []\n",
    "models.append(('LR', LogisticRegression()))\n",
    "models.append(('LDA', LinearDiscriminantAnalysis()))\n",
    "models.append(('KNN', KNeighborsClassifier()))\n",
    "models.append(('CART', DecisionTreeClassifier()))\n",
    "models.append(('NB', GaussianNB()))\n",
    "models.append(('SVM', SVC()))\n",
    "# evaluate each model in turn\n",
    "results = []\n",
    "names = []\n",
    "for name, model in models:\n",
    "    kfold = model_selection.KFold(n_splits=10, random_state=seed)\n",
    "    cv_results = model_selection.cross_val_score(model, X_train, Y_train, cv=kfold, scoring=scoring)\n",
    "    results.append(cv_results)\n",
    "    names.append(name)\n",
    "    msg = \"%s: %f (%f)\" % (name, cv_results.mean(), cv_results.std())\n",
    "    print(msg)"
   ]
  },
  {
   "cell_type": "markdown",
   "metadata": {},
   "source": [
    "#### Next, I show a graphical representation of the best fitting model. From this it appears that KNN and SVM are the two best. "
   ]
  },
  {
   "cell_type": "code",
   "execution_count": 21,
   "metadata": {},
   "outputs": [
    {
     "data": {
      "image/png": "[encoded data removed]",
      "text/plain": [
       "<Figure size 432x288 with 1 Axes>"
      ]
     },
     "metadata": {
      "needs_background": "light"
     },
     "output_type": "display_data"
    }
   ],
   "source": [
    "# Compare Algorithms\n",
    "fig = plt.figure()\n",
    "fig.suptitle('Algorithm Comparison')\n",
    "ax = fig.add_subplot(111)\n",
    "plt.boxplot(results)\n",
    "ax.set_xticklabels(names)\n",
    "plt.show()"
   ]
  },
  {
   "cell_type": "markdown",
   "metadata": {},
   "source": [
    "#### Here I attempted to run simulations indipendently between KNN and then SVM. The output shows that the SVM method is better than KNN. "
   ]
  },
  {
   "cell_type": "code",
   "execution_count": 22,
   "metadata": {},
   "outputs": [],
   "source": [
    "# Make predictions on validation dataset \n",
    "knn = KNeighborsClassifier()\n",
    "knn.fit(X_train, Y_train)\n",
    "predictions = knn.predict(X_validation)"
   ]
  },
  {
   "cell_type": "code",
   "execution_count": 23,
   "metadata": {},
   "outputs": [
    {
     "name": "stdout",
     "output_type": "stream",
     "text": [
      "0.9555555555555556\n"
     ]
    }
   ],
   "source": [
    "print(accuracy_score(Y_validation, predictions))"
   ]
  },
  {
   "cell_type": "code",
   "execution_count": 24,
   "metadata": {},
   "outputs": [
    {
     "name": "stdout",
     "output_type": "stream",
     "text": [
      "[[  5   0   3   0]\n",
      " [  0   0   1   0]\n",
      " [  3   0 167   0]\n",
      " [  0   0   1   0]]\n"
     ]
    }
   ],
   "source": [
    "print(confusion_matrix(Y_validation, predictions))"
   ]
  },
  {
   "cell_type": "code",
   "execution_count": 25,
   "metadata": {},
   "outputs": [
    {
     "name": "stdout",
     "output_type": "stream",
     "text": [
      "             precision    recall  f1-score   support\n",
      "\n",
      "     3000.0       0.62      0.62      0.62         8\n",
      "     4499.0       0.00      0.00      0.00         1\n",
      "     4500.0       0.97      0.98      0.98       170\n",
      "     4503.0       0.00      0.00      0.00         1\n",
      "\n",
      "avg / total       0.94      0.96      0.95       180\n",
      "\n"
     ]
    },
    {
     "name": "stderr",
     "output_type": "stream",
     "text": [
      "C:\\ProgramData\\Anaconda2\\lib\\site-packages\\sklearn\\metrics\\classification.py:1135: UndefinedMetricWarning: Precision and F-score are ill-defined and being set to 0.0 in labels with no predicted samples.\n",
      "  'precision', 'predicted', average, warn_for)\n"
     ]
    }
   ],
   "source": [
    "print(classification_report(Y_validation, predictions))"
   ]
  },
  {
   "cell_type": "code",
   "execution_count": 54,
   "metadata": {},
   "outputs": [],
   "source": [
    "# similar as above code but with SVM\n",
    "svm = SVC()\n",
    "svm.fit(X_train, Y_train)\n",
    "predictions = svm.predict(X_validation)"
   ]
  },
  {
   "cell_type": "code",
   "execution_count": 55,
   "metadata": {},
   "outputs": [
    {
     "name": "stdout",
     "output_type": "stream",
     "text": [
      "0.9833333333333333\n"
     ]
    }
   ],
   "source": [
    "print(accuracy_score(Y_validation, predictions))"
   ]
  },
  {
   "cell_type": "code",
   "execution_count": 56,
   "metadata": {},
   "outputs": [
    {
     "name": "stdout",
     "output_type": "stream",
     "text": [
      "[[  8   0   0   0]\n",
      " [  0   0   1   0]\n",
      " [  1   0 169   0]\n",
      " [  0   0   1   0]]\n"
     ]
    }
   ],
   "source": [
    "print(confusion_matrix(Y_validation, predictions))"
   ]
  },
  {
   "cell_type": "code",
   "execution_count": 57,
   "metadata": {},
   "outputs": [
    {
     "name": "stdout",
     "output_type": "stream",
     "text": [
      "             precision    recall  f1-score   support\n",
      "\n",
      "     3000.0       0.89      1.00      0.94         8\n",
      "     4499.0       0.00      0.00      0.00         1\n",
      "     4500.0       0.99      0.99      0.99       170\n",
      "     4503.0       0.00      0.00      0.00         1\n",
      "\n",
      "avg / total       0.97      0.98      0.98       180\n",
      "\n"
     ]
    }
   ],
   "source": [
    "print(classification_report(Y_validation, predictions))"
   ]
  },
  {
   "cell_type": "markdown",
   "metadata": {},
   "source": [
    "#### Here I attempted to change the data file to only contain the variables that I required for strength testing. This effectivly was not productive, and produced errors in regression modeling. The intent was to create code to perform Monte Carlo simulation, however, the code would not run properly and the results were not realistic. The final analysis is written at the end of this notebook. "
   ]
  },
  {
   "cell_type": "code",
   "execution_count": 26,
   "metadata": {},
   "outputs": [],
   "source": [
    "Data_Var = [slump,percAir,tempAir,tempCon]\n",
    "# print(Data_Var)"
   ]
  },
  {
   "cell_type": "code",
   "execution_count": 27,
   "metadata": {},
   "outputs": [],
   "source": [
    "#List unique values in the df['name'] column\n",
    "UniqData = data.PlacementDate.unique() # lower case data to keep the nan's\n",
    "locate = data.PlacementDate.iloc() "
   ]
  },
  {
   "cell_type": "code",
   "execution_count": 28,
   "metadata": {},
   "outputs": [
    {
     "name": "stdout",
     "output_type": "stream",
     "text": [
      "[43234 43241 43244 43258 43279 43301 43326 42880 42886 42892 42894 42908\n",
      " 42909 42912 42914 42915 42921 42922 42933 42935 42936 42937 42940 42941\n",
      " 42942 42943 42944 42947 42948 42949 42950 42951 42954 42955 42956 42957\n",
      " 42958 42961 42962 42963 42964 42965 42968 42969 42970 42971]\n"
     ]
    }
   ],
   "source": [
    "print(UniqData)"
   ]
  },
  {
   "cell_type": "code",
   "execution_count": 29,
   "metadata": {},
   "outputs": [
    {
     "data": {
      "text/plain": [
       "<pandas.core.indexing._iLocIndexer at 0xd8ad688>"
      ]
     },
     "execution_count": 29,
     "metadata": {},
     "output_type": "execute_result"
    }
   ],
   "source": [
    "data.PlacementDate.iloc()"
   ]
  },
  {
   "cell_type": "code",
   "execution_count": 31,
   "metadata": {},
   "outputs": [],
   "source": [
    "Earlymeans = data.groupby('PlacementDate')['Early'].mean()\n",
    "Slumpmeans = data.groupby('PlacementDate')['slump_in'].mean()\n",
    "PerAirmeans = data.groupby('PlacementDate')['Perc_Air'].mean()\n",
    "AirTempmean = data.groupby('PlacementDate')['Air_Temp'].mean()\n",
    "ConTempmean = data.groupby('PlacementDate')['Concrete_Temp'].mean()\n",
    "Sevenmean = data.groupby('PlacementDate')['sevenDay'].mean()\n",
    "Tenmean = data.groupby('PlacementDate')['tenDay'].mean()\n",
    "Twomean = data.groupby('PlacementDate')['twoeight_Day'].mean()"
   ]
  },
  {
   "cell_type": "code",
   "execution_count": 32,
   "metadata": {},
   "outputs": [
    {
     "name": "stdout",
     "output_type": "stream",
     "text": [
      "(46L,)\n",
      "(46L,)\n",
      "(46L,)\n"
     ]
    }
   ],
   "source": [
    "print(UniqData.shape)\n",
    "print(Earlymeans.shape)\n",
    "print(PerAirmeans.shape)"
   ]
  },
  {
   "cell_type": "code",
   "execution_count": 33,
   "metadata": {},
   "outputs": [
    {
     "name": "stdout",
     "output_type": "stream",
     "text": [
      "               slump_in  Perc_Air   Air_Temp  Concrete_Temp        Early  \\\n",
      "PlacementDate                                                              \n",
      "42880          2.250000  0.060000  52.000000      66.000000          NaN   \n",
      "42886          3.750000  0.060000  58.000000      68.000000          NaN   \n",
      "42892          4.000000  0.070500  61.500000      70.500000          NaN   \n",
      "42894          4.000000  0.064000  56.000000      68.000000          NaN   \n",
      "42908          6.038462  0.054231  72.307692      75.153846  3446.666667   \n",
      "\n",
      "               sevenDay  tenDay  twoeight_Day  \n",
      "PlacementDate                                  \n",
      "42880            4030.0  4575.0   5650.000000  \n",
      "42886            4430.0  4685.0   5990.000000  \n",
      "42892            3960.0  4545.0   5500.000000  \n",
      "42894            4317.5  5150.0   6218.333333  \n",
      "42908            4560.0  4675.0   6085.000000  \n"
     ]
    }
   ],
   "source": [
    "frames = [Slumpmeans, PerAirmeans, AirTempmean, ConTempmean, Earlymeans, Sevenmean, Tenmean, Twomean]\n",
    "\n",
    "MeanVals = pd.concat(frames, axis=1, sort=True)\n",
    "\n",
    "print(MeanVals[0:5])"
   ]
  },
  {
   "cell_type": "code",
   "execution_count": 34,
   "metadata": {},
   "outputs": [
    {
     "data": {
      "text/plain": [
       "2860.0"
      ]
     },
     "execution_count": 34,
     "metadata": {},
     "output_type": "execute_result"
    }
   ],
   "source": [
    "MeanVals.sevenDay.min()"
   ]
  },
  {
   "cell_type": "code",
   "execution_count": 35,
   "metadata": {},
   "outputs": [
    {
     "data": {
      "text/plain": [
       "1910.0"
      ]
     },
     "execution_count": 35,
     "metadata": {},
     "output_type": "execute_result"
    }
   ],
   "source": [
    "MeanVals.Early.min()"
   ]
  },
  {
   "cell_type": "code",
   "execution_count": 36,
   "metadata": {},
   "outputs": [],
   "source": [
    "MeanVals = MeanVals.fillna(1910)"
   ]
  },
  {
   "cell_type": "code",
   "execution_count": 37,
   "metadata": {},
   "outputs": [
    {
     "data": {
      "text/plain": [
       "1910.0"
      ]
     },
     "execution_count": 37,
     "metadata": {},
     "output_type": "execute_result"
    }
   ],
   "source": [
    "MeanVals.twoeight_Day.min()"
   ]
  },
  {
   "cell_type": "code",
   "execution_count": 40,
   "metadata": {},
   "outputs": [
    {
     "name": "stdout",
     "output_type": "stream",
     "text": [
      "               slump_in  Perc_Air   Air_Temp  Concrete_Temp        Early  \\\n",
      "PlacementDate                                                              \n",
      "42880          2.250000  0.060000  52.000000      66.000000  1910.000000   \n",
      "42886          3.750000  0.060000  58.000000      68.000000  1910.000000   \n",
      "42892          4.000000  0.070500  61.500000      70.500000  1910.000000   \n",
      "42894          4.000000  0.064000  56.000000      68.000000  1910.000000   \n",
      "42908          6.038462  0.054231  72.307692      75.153846  3446.666667   \n",
      "\n",
      "               sevenDay  tenDay  twoeight_Day  \n",
      "PlacementDate                                  \n",
      "42880            4030.0  4575.0   5650.000000  \n",
      "42886            4430.0  4685.0   5990.000000  \n",
      "42892            3960.0  4545.0   5500.000000  \n",
      "42894            4317.5  5150.0   6218.333333  \n",
      "42908            4560.0  4675.0   6085.000000  \n"
     ]
    }
   ],
   "source": [
    "print(MeanVals[0:5])"
   ]
  },
  {
   "cell_type": "code",
   "execution_count": 52,
   "metadata": {},
   "outputs": [
    {
     "data": {
      "text/plain": [
       "5686.666666666667"
      ]
     },
     "execution_count": 52,
     "metadata": {},
     "output_type": "execute_result"
    }
   ],
   "source": [
    "MinEarly = MeanVals.Early.min()\n",
    "MaxEarly = MeanVals.Early.max()"
   ]
  },
  {
   "cell_type": "markdown",
   "metadata": {},
   "source": [
    "### Analysis of Notebook\n",
    "#### This final project was intended to produce a code that could predict the final strength of concrete given varience of input parameters. The code was able to produce a regression methods with a maximum accuracy of fit of 98%. This fit was then used to run a prediction analysis, and was able to accuratly predict the majority of the testing results. With this information, it is clear that the machine learing was performed accuratly, however, the results only produced concrete strengths well above failure. This is cause for speculation as the input variables may in fact cause strength to fall well below allowable minimums. Further testing on the data set could prduce random same simulations that would give a probability density function. This would require significant work on my part, as the code generated in the last cells would not work properly. "
   ]
  }
 ],
 "metadata": {
  "kernelspec": {
   "display_name": "Python 2",
   "language": "python",
   "name": "python2"
  },
  "language_info": {
   "codemirror_mode": {
    "name": "ipython",
    "version": 2
   },
   "file_extension": ".py",
   "mimetype": "text/x-python",
   "name": "python",
   "nbconvert_exporter": "python",
   "pygments_lexer": "ipython2",
   "version": "2.7.15"
  }
 },
 "nbformat": 4,
 "nbformat_minor": 2
}
